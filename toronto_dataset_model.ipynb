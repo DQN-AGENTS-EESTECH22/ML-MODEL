{
 "cells": [
  {
   "cell_type": "code",
   "execution_count": 8,
   "metadata": {},
   "outputs": [],
   "source": [
    "import scipy.io \n",
    "import pandas as pd\n",
    "from IPython.display import display\n",
    "import numpy as np\n",
    "import matplotlib.pyplot as plt\n",
    "import colorsys"
   ]
  },
  {
   "cell_type": "code",
   "execution_count": 9,
   "metadata": {},
   "outputs": [],
   "source": [
    "def display_palette(colors):\n",
    "    fig = plt.figure()\n",
    "    gs = plt.GridSpec(1, len(colors))\n",
    "    for i, color in enumerate(colors):\n",
    "        # display color\n",
    "        ax = fig.add_subplot(gs[0, i])\n",
    "        ax.imshow(color)\n",
    "        ax.set_xticks([])\n",
    "        ax.set_yticks([])\n",
    "        ax.spines[['top', 'right', 'bottom', 'left']].set_visible(False)\n",
    "\n",
    "    fig.tight_layout()\n",
    "    fig.subplots_adjust(wspace=0., hspace=0.)\n",
    "    return fig"
   ]
  },
  {
   "cell_type": "code",
   "execution_count": 10,
   "metadata": {},
   "outputs": [],
   "source": [
    "def convert_rgb_to_hsv(rgb_palette):\n",
    "    hsv = np.zeros(rgb_palette.shape)\n",
    "    for i in range(rgb_palette.shape[0]):\n",
    "        hsv[i, :] = colorsys.rgb_to_hsv(rgb_palette[i, 0],\n",
    "                                    rgb_palette[i, 1],\n",
    "                                    rgb_palette[i, 2])\n",
    "    return hsv"
   ]
  },
  {
   "cell_type": "code",
   "execution_count": 20,
   "metadata": {},
   "outputs": [
    {
     "name": "stdout",
     "output_type": "stream",
     "text": [
      "(10743, 5, 3)\n"
     ]
    }
   ],
   "source": [
    "test = scipy.io.loadmat(\".\\colorCode\\data\\mturkData.mat\")\n",
    "\n",
    "other = {}\n",
    "for key in test.keys():\n",
    "    if key == \"data\":\n",
    "        data = test[key]\n",
    "    elif key[:2] == \"__\":\n",
    "        continue\n",
    "    else:\n",
    "        other[key] = (test[key][:, 0])\n",
    "\n",
    "print(data.shape)\n",
    "\n",
    "df = pd.DataFrame.from_dict(other)\n",
    "\n",
    "for i in range(data.shape[1]):\n",
    "    col_prefix = \"palette_\" + str(i)\n",
    "    rgb = [\"R\", \"G\", \"B\"]\n",
    "    for j in range(3):\n",
    "        colname = col_prefix + \"_\" + rgb[j]\n",
    "        df[colname] = (data[:, i, j])\n",
    "    \n",
    "for i in range(data.shape[1]):\n",
    "    col_prefix = \"palette_\" + str(i)\n",
    "    hsv = [\"H\", \"S\", \"V\"]\n",
    "    converted = convert_rgb_to_hsv(data[:, i, :])\n",
    "    for j in range(3):\n",
    "        colnameHSV = col_prefix + \"_\" + hsv[j]\n",
    "        df[colnameHSV] = (data[:, i, j])\n",
    "\n",
    "for i in range(3):\n",
    "    rgb = [\"R\", \"G\", \"B\"]\n",
    "    colname = \"mean_color_\" + rgb[i]\n",
    "    df[colname] = np.mean(data[:, :, i])\n",
    "    colname = \"std_color_\" + rgb[i]\n",
    "    df[colname] = np.std(data[:, :, i])\n",
    "\n",
    "\n"
   ]
  },
  {
   "cell_type": "code",
   "execution_count": 21,
   "metadata": {},
   "outputs": [
    {
     "data": {
      "image/png": "[encoded data removed]",
      "text/plain": [
       "<Figure size 432x288 with 5 Axes>"
      ]
     },
     "metadata": {},
     "output_type": "display_data"
    }
   ],
   "source": [
    "def make_color_array(colors):\n",
    "    numColors, numComp = colors.shape\n",
    "    allcolors = []\n",
    "    for i in range(numColors):\n",
    "        arr = np.ones((10, 10, numComp))\n",
    "        arr[:, :, :] = colors[i, :]\n",
    "        allcolors.append(arr)\n",
    "    return allcolors\n",
    "\n",
    "def display_from_df(palette_col):\n",
    "    palette = make_color_array(palette_col)\n",
    "    display_palette(palette)\n",
    "\n",
    "\n",
    "display_from_df(data[5, :, :])"
   ]
  },
  {
   "cell_type": "code",
   "execution_count": 22,
   "metadata": {},
   "outputs": [
    {
     "data": {
      "text/html": [
       "<div>\n",
       "<style scoped>\n",
       "    .dataframe tbody tr th:only-of-type {\n",
       "        vertical-align: middle;\n",
       "    }\n",
       "\n",
       "    .dataframe tbody tr th {\n",
       "        vertical-align: top;\n",
       "    }\n",
       "\n",
       "    .dataframe thead th {\n",
       "        text-align: right;\n",
       "    }\n",
       "</style>\n",
       "<table border=\"1\" class=\"dataframe\">\n",
       "  <thead>\n",
       "    <tr style=\"text-align: right;\">\n",
       "      <th></th>\n",
       "      <th>userNormalizedTargets</th>\n",
       "      <th>palette_0_R</th>\n",
       "      <th>palette_0_G</th>\n",
       "      <th>palette_0_B</th>\n",
       "      <th>palette_1_R</th>\n",
       "      <th>palette_1_G</th>\n",
       "      <th>palette_1_B</th>\n",
       "      <th>palette_2_R</th>\n",
       "      <th>palette_2_G</th>\n",
       "      <th>palette_2_B</th>\n",
       "      <th>...</th>\n",
       "      <th>palette_3_V</th>\n",
       "      <th>palette_4_H</th>\n",
       "      <th>palette_4_S</th>\n",
       "      <th>palette_4_V</th>\n",
       "      <th>mean_color_R</th>\n",
       "      <th>std_color_R</th>\n",
       "      <th>mean_color_G</th>\n",
       "      <th>std_color_G</th>\n",
       "      <th>mean_color_B</th>\n",
       "      <th>std_color_B</th>\n",
       "    </tr>\n",
       "  </thead>\n",
       "  <tbody>\n",
       "    <tr>\n",
       "      <th>0</th>\n",
       "      <td>0.218844</td>\n",
       "      <td>0.345098</td>\n",
       "      <td>0.549020</td>\n",
       "      <td>0.549020</td>\n",
       "      <td>0.286275</td>\n",
       "      <td>0.419608</td>\n",
       "      <td>0.450980</td>\n",
       "      <td>0.749020</td>\n",
       "      <td>0.819608</td>\n",
       "      <td>0.850980</td>\n",
       "      <td>...</td>\n",
       "      <td>0.749020</td>\n",
       "      <td>0.450980</td>\n",
       "      <td>0.211765</td>\n",
       "      <td>0.254902</td>\n",
       "      <td>0.558129</td>\n",
       "      <td>0.309645</td>\n",
       "      <td>0.488512</td>\n",
       "      <td>0.295314</td>\n",
       "      <td>0.388158</td>\n",
       "      <td>0.280074</td>\n",
       "    </tr>\n",
       "    <tr>\n",
       "      <th>1</th>\n",
       "      <td>0.296755</td>\n",
       "      <td>0.835294</td>\n",
       "      <td>1.000000</td>\n",
       "      <td>0.870588</td>\n",
       "      <td>0.105882</td>\n",
       "      <td>0.800000</td>\n",
       "      <td>0.443137</td>\n",
       "      <td>0.000000</td>\n",
       "      <td>0.619608</td>\n",
       "      <td>0.458824</td>\n",
       "      <td>...</td>\n",
       "      <td>0.411765</td>\n",
       "      <td>0.152941</td>\n",
       "      <td>0.588235</td>\n",
       "      <td>0.749020</td>\n",
       "      <td>0.558129</td>\n",
       "      <td>0.309645</td>\n",
       "      <td>0.488512</td>\n",
       "      <td>0.295314</td>\n",
       "      <td>0.388158</td>\n",
       "      <td>0.280074</td>\n",
       "    </tr>\n",
       "    <tr>\n",
       "      <th>2</th>\n",
       "      <td>0.254885</td>\n",
       "      <td>0.956863</td>\n",
       "      <td>0.866667</td>\n",
       "      <td>0.694118</td>\n",
       "      <td>0.364706</td>\n",
       "      <td>0.443137</td>\n",
       "      <td>0.337255</td>\n",
       "      <td>0.325490</td>\n",
       "      <td>0.329412</td>\n",
       "      <td>0.274510</td>\n",
       "      <td>...</td>\n",
       "      <td>0.129412</td>\n",
       "      <td>0.568627</td>\n",
       "      <td>0.266667</td>\n",
       "      <td>0.062745</td>\n",
       "      <td>0.558129</td>\n",
       "      <td>0.309645</td>\n",
       "      <td>0.488512</td>\n",
       "      <td>0.295314</td>\n",
       "      <td>0.388158</td>\n",
       "      <td>0.280074</td>\n",
       "    </tr>\n",
       "    <tr>\n",
       "      <th>3</th>\n",
       "      <td>-0.355154</td>\n",
       "      <td>0.800000</td>\n",
       "      <td>0.752941</td>\n",
       "      <td>0.450980</td>\n",
       "      <td>1.000000</td>\n",
       "      <td>0.980392</td>\n",
       "      <td>0.411765</td>\n",
       "      <td>0.890196</td>\n",
       "      <td>0.662745</td>\n",
       "      <td>1.000000</td>\n",
       "      <td>...</td>\n",
       "      <td>0.658824</td>\n",
       "      <td>0.600000</td>\n",
       "      <td>0.133333</td>\n",
       "      <td>0.415686</td>\n",
       "      <td>0.558129</td>\n",
       "      <td>0.309645</td>\n",
       "      <td>0.488512</td>\n",
       "      <td>0.295314</td>\n",
       "      <td>0.388158</td>\n",
       "      <td>0.280074</td>\n",
       "    </tr>\n",
       "    <tr>\n",
       "      <th>4</th>\n",
       "      <td>-0.444863</td>\n",
       "      <td>0.517647</td>\n",
       "      <td>0.643137</td>\n",
       "      <td>0.062745</td>\n",
       "      <td>0.772549</td>\n",
       "      <td>0.576471</td>\n",
       "      <td>0.117647</td>\n",
       "      <td>0.380392</td>\n",
       "      <td>0.074510</td>\n",
       "      <td>0.074510</td>\n",
       "      <td>...</td>\n",
       "      <td>0.156863</td>\n",
       "      <td>0.862745</td>\n",
       "      <td>0.509804</td>\n",
       "      <td>0.176471</td>\n",
       "      <td>0.558129</td>\n",
       "      <td>0.309645</td>\n",
       "      <td>0.488512</td>\n",
       "      <td>0.295314</td>\n",
       "      <td>0.388158</td>\n",
       "      <td>0.280074</td>\n",
       "    </tr>\n",
       "  </tbody>\n",
       "</table>\n",
       "<p>5 rows × 37 columns</p>\n",
       "</div>"
      ],
      "text/plain": [
       "   userNormalizedTargets  palette_0_R  palette_0_G  palette_0_B  palette_1_R  \\\n",
       "0               0.218844     0.345098     0.549020     0.549020     0.286275   \n",
       "1               0.296755     0.835294     1.000000     0.870588     0.105882   \n",
       "2               0.254885     0.956863     0.866667     0.694118     0.364706   \n",
       "3              -0.355154     0.800000     0.752941     0.450980     1.000000   \n",
       "4              -0.444863     0.517647     0.643137     0.062745     0.772549   \n",
       "\n",
       "   palette_1_G  palette_1_B  palette_2_R  palette_2_G  palette_2_B  ...  \\\n",
       "0     0.419608     0.450980     0.749020     0.819608     0.850980  ...   \n",
       "1     0.800000     0.443137     0.000000     0.619608     0.458824  ...   \n",
       "2     0.443137     0.337255     0.325490     0.329412     0.274510  ...   \n",
       "3     0.980392     0.411765     0.890196     0.662745     1.000000  ...   \n",
       "4     0.576471     0.117647     0.380392     0.074510     0.074510  ...   \n",
       "\n",
       "   palette_3_V  palette_4_H  palette_4_S  palette_4_V  mean_color_R  \\\n",
       "0     0.749020     0.450980     0.211765     0.254902      0.558129   \n",
       "1     0.411765     0.152941     0.588235     0.749020      0.558129   \n",
       "2     0.129412     0.568627     0.266667     0.062745      0.558129   \n",
       "3     0.658824     0.600000     0.133333     0.415686      0.558129   \n",
       "4     0.156863     0.862745     0.509804     0.176471      0.558129   \n",
       "\n",
       "   std_color_R  mean_color_G  std_color_G  mean_color_B  std_color_B  \n",
       "0     0.309645      0.488512     0.295314      0.388158     0.280074  \n",
       "1     0.309645      0.488512     0.295314      0.388158     0.280074  \n",
       "2     0.309645      0.488512     0.295314      0.388158     0.280074  \n",
       "3     0.309645      0.488512     0.295314      0.388158     0.280074  \n",
       "4     0.309645      0.488512     0.295314      0.388158     0.280074  \n",
       "\n",
       "[5 rows x 37 columns]"
      ]
     },
     "metadata": {},
     "output_type": "display_data"
    }
   ],
   "source": [
    "color_rating_data = df.copy()\n",
    "color_rating_data.drop([\"ids\", \"names\", \"targets\"], inplace=True, axis=1)\n",
    "\n",
    "display(color_rating_data[:5])\n"
   ]
  },
  {
   "cell_type": "code",
   "execution_count": 24,
   "metadata": {},
   "outputs": [],
   "source": [
    "from sklearn.model_selection import train_test_split\n",
    "\n",
    "color_rating_data = df.copy()\n",
    "color_rating_data.drop([\"ids\", \"names\", \"targets\"], inplace=True, axis=1)\n",
    "train_set, test_set = train_test_split(color_rating_data, test_size=0.2, random_state=42)\n",
    "train_labels = train_set.pop(\"userNormalizedTargets\")\n"
   ]
  },
  {
   "cell_type": "code",
   "execution_count": 25,
   "metadata": {},
   "outputs": [],
   "source": [
    "from sklearn.linear_model import Lasso\n",
    "from sklearn.tree import DecisionTreeRegressor\n",
    "from sklearn.model_selection import cross_val_score"
   ]
  },
  {
   "cell_type": "markdown",
   "metadata": {},
   "source": [
    "Treinar regressão Lasso"
   ]
  },
  {
   "cell_type": "code",
   "execution_count": 26,
   "metadata": {},
   "outputs": [],
   "source": [
    "lasso_reg = Lasso()\n",
    "                        \n",
    "scores = cross_val_score(lasso_reg, train_set, train_labels,\n",
    "                         scoring=\"neg_mean_squared_error\", cv=10)\n",
    "\n",
    "mse_scores = np.sqrt(-scores)"
   ]
  },
  {
   "cell_type": "code",
   "execution_count": 27,
   "metadata": {},
   "outputs": [
    {
     "name": "stdout",
     "output_type": "stream",
     "text": [
      "[0.32890109 0.33914179 0.33440657 0.33394674 0.32551856 0.33989691\n",
      " 0.33461189 0.32894982 0.34039785 0.32468099]\n",
      "0.3330452212994391\n",
      "0.005512281539406434\n"
     ]
    }
   ],
   "source": [
    "print(mse_scores)\n",
    "print(mse_scores.mean())\n",
    "print(mse_scores.std())"
   ]
  },
  {
   "cell_type": "code",
   "execution_count": 38,
   "metadata": {},
   "outputs": [
    {
     "name": "stderr",
     "output_type": "stream",
     "text": [
      "C:\\Users\\fcoel\\Anaconda3\\lib\\site-packages\\sklearn\\linear_model\\_coordinate_descent.py:530: ConvergenceWarning: Objective did not converge. You might want to increase the number of iterations. Duality gap: 87.88725213248352, tolerance: 0.08603351111556759\n",
      "  model = cd_fast.enet_coordinate_descent(\n",
      "C:\\Users\\fcoel\\Anaconda3\\lib\\site-packages\\sklearn\\linear_model\\_coordinate_descent.py:530: ConvergenceWarning: Objective did not converge. You might want to increase the number of iterations. Duality gap: 99.92725713500954, tolerance: 0.08544260014905385\n",
      "  model = cd_fast.enet_coordinate_descent(\n",
      "C:\\Users\\fcoel\\Anaconda3\\lib\\site-packages\\sklearn\\linear_model\\_coordinate_descent.py:530: ConvergenceWarning: Objective did not converge. You might want to increase the number of iterations. Duality gap: 102.88800944932802, tolerance: 0.08571756522696358\n",
      "  model = cd_fast.enet_coordinate_descent(\n",
      "C:\\Users\\fcoel\\Anaconda3\\lib\\site-packages\\sklearn\\linear_model\\_coordinate_descent.py:530: ConvergenceWarning: Objective did not converge. You might want to increase the number of iterations. Duality gap: 101.3186100297412, tolerance: 0.08574383898513424\n",
      "  model = cd_fast.enet_coordinate_descent(\n",
      "C:\\Users\\fcoel\\Anaconda3\\lib\\site-packages\\sklearn\\linear_model\\_coordinate_descent.py:530: ConvergenceWarning: Objective did not converge. You might want to increase the number of iterations. Duality gap: 86.26984046202944, tolerance: 0.08623248503475817\n",
      "  model = cd_fast.enet_coordinate_descent(\n",
      "C:\\Users\\fcoel\\Anaconda3\\lib\\site-packages\\sklearn\\linear_model\\_coordinate_descent.py:530: ConvergenceWarning: Objective did not converge. You might want to increase the number of iterations. Duality gap: 89.44950347708618, tolerance: 0.08541072108847468\n",
      "  model = cd_fast.enet_coordinate_descent(\n",
      "C:\\Users\\fcoel\\Anaconda3\\lib\\site-packages\\sklearn\\linear_model\\_coordinate_descent.py:530: ConvergenceWarning: Objective did not converge. You might want to increase the number of iterations. Duality gap: 101.27587576137842, tolerance: 0.08571591938741735\n",
      "  model = cd_fast.enet_coordinate_descent(\n",
      "C:\\Users\\fcoel\\Anaconda3\\lib\\site-packages\\sklearn\\linear_model\\_coordinate_descent.py:530: ConvergenceWarning: Objective did not converge. You might want to increase the number of iterations. Duality gap: 115.29323374030554, tolerance: 0.086038615139684\n",
      "  model = cd_fast.enet_coordinate_descent(\n",
      "C:\\Users\\fcoel\\Anaconda3\\lib\\site-packages\\sklearn\\linear_model\\_coordinate_descent.py:530: ConvergenceWarning: Objective did not converge. You might want to increase the number of iterations. Duality gap: 102.09169015345611, tolerance: 0.0853809197555962\n",
      "  model = cd_fast.enet_coordinate_descent(\n",
      "C:\\Users\\fcoel\\Anaconda3\\lib\\site-packages\\sklearn\\linear_model\\_coordinate_descent.py:530: ConvergenceWarning: Objective did not converge. You might want to increase the number of iterations. Duality gap: 116.1944011641537, tolerance: 0.08627831365679864\n",
      "  model = cd_fast.enet_coordinate_descent(\n",
      "C:\\Users\\fcoel\\Anaconda3\\lib\\site-packages\\sklearn\\linear_model\\_coordinate_descent.py:530: ConvergenceWarning: Objective did not converge. You might want to increase the number of iterations. Duality gap: 86.3771706340695, tolerance: 0.08603351111556759\n",
      "  model = cd_fast.enet_coordinate_descent(\n",
      "C:\\Users\\fcoel\\Anaconda3\\lib\\site-packages\\sklearn\\linear_model\\_coordinate_descent.py:530: ConvergenceWarning: Objective did not converge. You might want to increase the number of iterations. Duality gap: 133.93903830308642, tolerance: 0.08544260014905385\n",
      "  model = cd_fast.enet_coordinate_descent(\n",
      "C:\\Users\\fcoel\\Anaconda3\\lib\\site-packages\\sklearn\\linear_model\\_coordinate_descent.py:530: ConvergenceWarning: Objective did not converge. You might want to increase the number of iterations. Duality gap: 86.32610363661126, tolerance: 0.08571756522696358\n",
      "  model = cd_fast.enet_coordinate_descent(\n",
      "C:\\Users\\fcoel\\Anaconda3\\lib\\site-packages\\sklearn\\linear_model\\_coordinate_descent.py:530: ConvergenceWarning: Objective did not converge. You might want to increase the number of iterations. Duality gap: 133.16109167721487, tolerance: 0.08574383898513424\n",
      "  model = cd_fast.enet_coordinate_descent(\n",
      "C:\\Users\\fcoel\\Anaconda3\\lib\\site-packages\\sklearn\\linear_model\\_coordinate_descent.py:530: ConvergenceWarning: Objective did not converge. You might want to increase the number of iterations. Duality gap: 134.32876926039023, tolerance: 0.08623248503475817\n",
      "  model = cd_fast.enet_coordinate_descent(\n",
      "C:\\Users\\fcoel\\Anaconda3\\lib\\site-packages\\sklearn\\linear_model\\_coordinate_descent.py:530: ConvergenceWarning: Objective did not converge. You might want to increase the number of iterations. Duality gap: 70.75932824722344, tolerance: 0.08541072108847468\n",
      "  model = cd_fast.enet_coordinate_descent(\n",
      "C:\\Users\\fcoel\\Anaconda3\\lib\\site-packages\\sklearn\\linear_model\\_coordinate_descent.py:530: ConvergenceWarning: Objective did not converge. You might want to increase the number of iterations. Duality gap: 86.34837921009091, tolerance: 0.08571591938741735\n",
      "  model = cd_fast.enet_coordinate_descent(\n",
      "C:\\Users\\fcoel\\Anaconda3\\lib\\site-packages\\sklearn\\linear_model\\_coordinate_descent.py:530: ConvergenceWarning: Objective did not converge. You might want to increase the number of iterations. Duality gap: 133.7934708614813, tolerance: 0.086038615139684\n",
      "  model = cd_fast.enet_coordinate_descent(\n",
      "C:\\Users\\fcoel\\Anaconda3\\lib\\site-packages\\sklearn\\linear_model\\_coordinate_descent.py:530: ConvergenceWarning: Objective did not converge. You might want to increase the number of iterations. Duality gap: 89.0629034640072, tolerance: 0.0853809197555962\n",
      "  model = cd_fast.enet_coordinate_descent(\n",
      "C:\\Users\\fcoel\\Anaconda3\\lib\\site-packages\\sklearn\\linear_model\\_coordinate_descent.py:530: ConvergenceWarning: Objective did not converge. You might want to increase the number of iterations. Duality gap: 87.69540182935572, tolerance: 0.08627831365679864\n",
      "  model = cd_fast.enet_coordinate_descent(\n",
      "C:\\Users\\fcoel\\Anaconda3\\lib\\site-packages\\sklearn\\linear_model\\_coordinate_descent.py:530: ConvergenceWarning: Objective did not converge. You might want to increase the number of iterations. Duality gap: 97.10159955232598, tolerance: 0.09533359892523129\n",
      "  model = cd_fast.enet_coordinate_descent(\n"
     ]
    },
    {
     "data": {
      "text/plain": [
       "GridSearchCV(cv=10, estimator=Lasso(),\n",
       "             param_grid=[{'alpha': [1e-05, 0.0001, 0.001, 0.01, 0.1, 1]},\n",
       "                         {'alpha': [1e-07, 1e-06], 'max_iter': [5000]}],\n",
       "             return_train_score=True, scoring='neg_mean_squared_error')"
      ]
     },
     "execution_count": 38,
     "metadata": {},
     "output_type": "execute_result"
    }
   ],
   "source": [
    "from sklearn.model_selection import GridSearchCV\n",
    "\n",
    "param_grid = [{'alpha':[1e-5, 1e-4, 1e-3, 1e-2, 1e-1, 1]},\n",
    "              {'alpha':[1e-7, 1e-6], 'max_iter':[5000]}]\n",
    "\n",
    "lasso_reg = Lasso()\n",
    "                        \n",
    "grid_search = GridSearchCV(lasso_reg, param_grid, cv=10,\n",
    "                           scoring=\"neg_mean_squared_error\",\n",
    "                           return_train_score=True)\n",
    "\n",
    "grid_search.fit(train_set, train_labels)"
   ]
  },
  {
   "cell_type": "code",
   "execution_count": 36,
   "metadata": {},
   "outputs": [
    {
     "data": {
      "text/plain": [
       "{'alpha': 1e-06}"
      ]
     },
     "execution_count": 36,
     "metadata": {},
     "output_type": "execute_result"
    }
   ],
   "source": [
    "grid_search.best_params_"
   ]
  },
  {
   "cell_type": "code",
   "execution_count": 37,
   "metadata": {},
   "outputs": [
    {
     "name": "stdout",
     "output_type": "stream",
     "text": [
      "0.30646183864438925 {'alpha': 1e-07}\n",
      "0.30646175886672317 {'alpha': 1e-06}\n",
      "0.3064619137190598 {'alpha': 1e-05}\n",
      "0.3064659594036232 {'alpha': 0.0001}\n",
      "0.30656314489984526 {'alpha': 0.001}\n",
      "0.3135449562040256 {'alpha': 0.01}\n",
      "0.3330908354760936 {'alpha': 0.1}\n",
      "0.3330908354760936 {'alpha': 1}\n"
     ]
    }
   ],
   "source": [
    "gs_results = grid_search.cv_results_\n",
    "for mean_score, params in zip(gs_results[\"mean_test_score\"], gs_results[\"params\"]):\n",
    "    print(np.sqrt(-mean_score), params)"
   ]
  },
  {
   "cell_type": "code",
   "execution_count": 40,
   "metadata": {},
   "outputs": [
    {
     "data": {
      "text/plain": [
       "count    8594.000000\n",
       "mean       -0.000185\n",
       "std         0.333082\n",
       "min        -1.565246\n",
       "25%        -0.201830\n",
       "50%         0.018030\n",
       "75%         0.224033\n",
       "max         1.067736\n",
       "Name: userNormalizedTargets, dtype: float64"
      ]
     },
     "execution_count": 40,
     "metadata": {},
     "output_type": "execute_result"
    }
   ],
   "source": [
    "train_labels.describe()"
   ]
  },
  {
   "cell_type": "code",
   "execution_count": null,
   "metadata": {},
   "outputs": [],
   "source": []
  }
 ],
 "metadata": {
  "interpreter": {
   "hash": "b9d0357c8f8789fd1165848bced750b23fa6fc122a98054728f94b5e0abd9b6e"
  },
  "kernelspec": {
   "display_name": "Python 3.9.7 ('base')",
   "language": "python",
   "name": "python3"
  },
  "language_info": {
   "codemirror_mode": {
    "name": "ipython",
    "version": 3
   },
   "file_extension": ".py",
   "mimetype": "text/x-python",
   "name": "python",
   "nbconvert_exporter": "python",
   "pygments_lexer": "ipython3",
   "version": "3.9.7"
  },
  "orig_nbformat": 4
 },
 "nbformat": 4,
 "nbformat_minor": 2
}
