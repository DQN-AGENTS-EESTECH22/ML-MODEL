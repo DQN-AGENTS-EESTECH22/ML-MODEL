{
 "cells": [
  {
   "cell_type": "code",
   "execution_count": 1,
   "metadata": {},
   "outputs": [],
   "source": [
    "import scipy.io \n",
    "import pandas as pd\n",
    "from IPython.display import display\n",
    "import numpy as np\n",
    "import matplotlib.pyplot as plt"
   ]
  },
  {
   "cell_type": "code",
   "execution_count": 2,
   "metadata": {},
   "outputs": [],
   "source": [
    "def display_palette(colors):\n",
    "    fig = plt.figure()\n",
    "    gs = plt.GridSpec(1, len(colors))\n",
    "    for i, color in enumerate(colors):\n",
    "        # display color\n",
    "        ax = fig.add_subplot(gs[0, i])\n",
    "        ax.imshow(color)\n",
    "        ax.set_xticks([])\n",
    "        ax.set_yticks([])\n",
    "        ax.spines[['top', 'right', 'bottom', 'left']].set_visible(False)\n",
    "\n",
    "    fig.tight_layout()\n",
    "    fig.subplots_adjust(wspace=0., hspace=0.)\n",
    "    return fig"
   ]
  },
  {
   "cell_type": "code",
   "execution_count": 3,
   "metadata": {},
   "outputs": [
    {
     "name": "stdout",
     "output_type": "stream",
     "text": [
      "(10743, 5, 3)\n"
     ]
    }
   ],
   "source": [
    "test = scipy.io.loadmat(\".\\colorCode\\data\\mturkData.mat\")\n",
    "\n",
    "other = {}\n",
    "for key in test.keys():\n",
    "    if key == \"data\":\n",
    "        data = test[key]\n",
    "    elif key[:2] == \"__\":\n",
    "        continue\n",
    "    else:\n",
    "        other[key] = (test[key][:, 0])\n",
    "\n",
    "print(data.shape)\n",
    "\n",
    "df = pd.DataFrame.from_dict(other)\n",
    "\n",
    "for i in range(data.shape[1]):\n",
    "    col_prefix = \"palette_\" + str(i)\n",
    "    rgb = [\"R\", \"G\", \"B\"]\n",
    "    for j in range(3):\n",
    "        colname = col_prefix + \"_\" + rgb[j]\n",
    "        df[colname] = (data[:, i, j])\n",
    "\n"
   ]
  },
  {
   "cell_type": "code",
   "execution_count": 4,
   "metadata": {},
   "outputs": [
    {
     "data": {
      "image/png": "[encoded data removed]",
      "text/plain": [
       "<Figure size 432x288 with 5 Axes>"
      ]
     },
     "metadata": {},
     "output_type": "display_data"
    }
   ],
   "source": [
    "def make_color_array(colors):\n",
    "    numColors, numComp = colors.shape\n",
    "    allcolors = []\n",
    "    for i in range(numColors):\n",
    "        arr = np.ones((10, 10, numComp))\n",
    "        arr[:, :, :] = colors[i, :]\n",
    "        allcolors.append(arr)\n",
    "    return allcolors\n",
    "\n",
    "def display_from_df(palette_col):\n",
    "    palette = make_color_array(palette_col)\n",
    "    display_palette(palette)\n",
    "\n",
    "\n",
    "display_from_df(data[5, :, :])"
   ]
  },
  {
   "cell_type": "code",
   "execution_count": 5,
   "metadata": {},
   "outputs": [
    {
     "data": {
      "text/html": [
       "<div>\n",
       "<style scoped>\n",
       "    .dataframe tbody tr th:only-of-type {\n",
       "        vertical-align: middle;\n",
       "    }\n",
       "\n",
       "    .dataframe tbody tr th {\n",
       "        vertical-align: top;\n",
       "    }\n",
       "\n",
       "    .dataframe thead th {\n",
       "        text-align: right;\n",
       "    }\n",
       "</style>\n",
       "<table border=\"1\" class=\"dataframe\">\n",
       "  <thead>\n",
       "    <tr style=\"text-align: right;\">\n",
       "      <th></th>\n",
       "      <th>userNormalizedTargets</th>\n",
       "      <th>palette_0_R</th>\n",
       "      <th>palette_0_G</th>\n",
       "      <th>palette_0_B</th>\n",
       "      <th>palette_1_R</th>\n",
       "      <th>palette_1_G</th>\n",
       "      <th>palette_1_B</th>\n",
       "      <th>palette_2_R</th>\n",
       "      <th>palette_2_G</th>\n",
       "      <th>palette_2_B</th>\n",
       "      <th>palette_3_R</th>\n",
       "      <th>palette_3_G</th>\n",
       "      <th>palette_3_B</th>\n",
       "      <th>palette_4_R</th>\n",
       "      <th>palette_4_G</th>\n",
       "      <th>palette_4_B</th>\n",
       "    </tr>\n",
       "  </thead>\n",
       "  <tbody>\n",
       "    <tr>\n",
       "      <th>0</th>\n",
       "      <td>0.218844</td>\n",
       "      <td>0.345098</td>\n",
       "      <td>0.549020</td>\n",
       "      <td>0.549020</td>\n",
       "      <td>0.286275</td>\n",
       "      <td>0.419608</td>\n",
       "      <td>0.450980</td>\n",
       "      <td>0.749020</td>\n",
       "      <td>0.819608</td>\n",
       "      <td>0.850980</td>\n",
       "      <td>0.576471</td>\n",
       "      <td>0.682353</td>\n",
       "      <td>0.749020</td>\n",
       "      <td>0.450980</td>\n",
       "      <td>0.211765</td>\n",
       "      <td>0.254902</td>\n",
       "    </tr>\n",
       "    <tr>\n",
       "      <th>1</th>\n",
       "      <td>0.296755</td>\n",
       "      <td>0.835294</td>\n",
       "      <td>1.000000</td>\n",
       "      <td>0.870588</td>\n",
       "      <td>0.105882</td>\n",
       "      <td>0.800000</td>\n",
       "      <td>0.443137</td>\n",
       "      <td>0.000000</td>\n",
       "      <td>0.619608</td>\n",
       "      <td>0.458824</td>\n",
       "      <td>0.000000</td>\n",
       "      <td>0.400000</td>\n",
       "      <td>0.411765</td>\n",
       "      <td>0.152941</td>\n",
       "      <td>0.588235</td>\n",
       "      <td>0.749020</td>\n",
       "    </tr>\n",
       "    <tr>\n",
       "      <th>2</th>\n",
       "      <td>0.254885</td>\n",
       "      <td>0.956863</td>\n",
       "      <td>0.866667</td>\n",
       "      <td>0.694118</td>\n",
       "      <td>0.364706</td>\n",
       "      <td>0.443137</td>\n",
       "      <td>0.337255</td>\n",
       "      <td>0.325490</td>\n",
       "      <td>0.329412</td>\n",
       "      <td>0.274510</td>\n",
       "      <td>0.368627</td>\n",
       "      <td>0.266667</td>\n",
       "      <td>0.129412</td>\n",
       "      <td>0.568627</td>\n",
       "      <td>0.266667</td>\n",
       "      <td>0.062745</td>\n",
       "    </tr>\n",
       "    <tr>\n",
       "      <th>3</th>\n",
       "      <td>-0.355154</td>\n",
       "      <td>0.800000</td>\n",
       "      <td>0.752941</td>\n",
       "      <td>0.450980</td>\n",
       "      <td>1.000000</td>\n",
       "      <td>0.980392</td>\n",
       "      <td>0.411765</td>\n",
       "      <td>0.890196</td>\n",
       "      <td>0.662745</td>\n",
       "      <td>1.000000</td>\n",
       "      <td>0.800000</td>\n",
       "      <td>0.450980</td>\n",
       "      <td>0.658824</td>\n",
       "      <td>0.600000</td>\n",
       "      <td>0.133333</td>\n",
       "      <td>0.415686</td>\n",
       "    </tr>\n",
       "    <tr>\n",
       "      <th>4</th>\n",
       "      <td>-0.444863</td>\n",
       "      <td>0.517647</td>\n",
       "      <td>0.643137</td>\n",
       "      <td>0.062745</td>\n",
       "      <td>0.772549</td>\n",
       "      <td>0.576471</td>\n",
       "      <td>0.117647</td>\n",
       "      <td>0.380392</td>\n",
       "      <td>0.074510</td>\n",
       "      <td>0.074510</td>\n",
       "      <td>0.862745</td>\n",
       "      <td>0.239216</td>\n",
       "      <td>0.156863</td>\n",
       "      <td>0.862745</td>\n",
       "      <td>0.509804</td>\n",
       "      <td>0.176471</td>\n",
       "    </tr>\n",
       "  </tbody>\n",
       "</table>\n",
       "</div>"
      ],
      "text/plain": [
       "   userNormalizedTargets  palette_0_R  palette_0_G  palette_0_B  palette_1_R  \\\n",
       "0               0.218844     0.345098     0.549020     0.549020     0.286275   \n",
       "1               0.296755     0.835294     1.000000     0.870588     0.105882   \n",
       "2               0.254885     0.956863     0.866667     0.694118     0.364706   \n",
       "3              -0.355154     0.800000     0.752941     0.450980     1.000000   \n",
       "4              -0.444863     0.517647     0.643137     0.062745     0.772549   \n",
       "\n",
       "   palette_1_G  palette_1_B  palette_2_R  palette_2_G  palette_2_B  \\\n",
       "0     0.419608     0.450980     0.749020     0.819608     0.850980   \n",
       "1     0.800000     0.443137     0.000000     0.619608     0.458824   \n",
       "2     0.443137     0.337255     0.325490     0.329412     0.274510   \n",
       "3     0.980392     0.411765     0.890196     0.662745     1.000000   \n",
       "4     0.576471     0.117647     0.380392     0.074510     0.074510   \n",
       "\n",
       "   palette_3_R  palette_3_G  palette_3_B  palette_4_R  palette_4_G  \\\n",
       "0     0.576471     0.682353     0.749020     0.450980     0.211765   \n",
       "1     0.000000     0.400000     0.411765     0.152941     0.588235   \n",
       "2     0.368627     0.266667     0.129412     0.568627     0.266667   \n",
       "3     0.800000     0.450980     0.658824     0.600000     0.133333   \n",
       "4     0.862745     0.239216     0.156863     0.862745     0.509804   \n",
       "\n",
       "   palette_4_B  \n",
       "0     0.254902  \n",
       "1     0.749020  \n",
       "2     0.062745  \n",
       "3     0.415686  \n",
       "4     0.176471  "
      ]
     },
     "metadata": {},
     "output_type": "display_data"
    }
   ],
   "source": [
    "color_rating_data = df.copy()\n",
    "color_rating_data.drop([\"ids\", \"names\", \"targets\"], inplace=True, axis=1)\n",
    "\n",
    "display(color_rating_data[:5])\n"
   ]
  },
  {
   "cell_type": "code",
   "execution_count": 14,
   "metadata": {},
   "outputs": [],
   "source": [
    "from sklearn.model_selection import train_test_split\n",
    "\n",
    "color_rating_data = df.copy()\n",
    "color_rating_data.drop([\"ids\", \"names\", \"targets\"], inplace=True, axis=1)\n",
    "train_set, test_set = train_test_split(color_rating_data, test_size=0.2, random_state=42)\n",
    "train_labels = train_set.pop(\"userNormalizedTargets\")\n"
   ]
  },
  {
   "cell_type": "code",
   "execution_count": 15,
   "metadata": {},
   "outputs": [],
   "source": [
    "from sklearn.linear_model import Lasso\n",
    "from sklearn.tree import DecisionTreeRegressor\n",
    "from sklearn.model_selection import cross_val_score"
   ]
  },
  {
   "cell_type": "markdown",
   "metadata": {},
   "source": [
    "Treinar regressão logística"
   ]
  },
  {
   "cell_type": "code",
   "execution_count": 17,
   "metadata": {},
   "outputs": [],
   "source": [
    "lasso_reg = Lasso()\n",
    "                        \n",
    "scores = cross_val_score(lasso_reg, train_set, train_labels,\n",
    "                         scoring=\"neg_mean_squared_error\", cv=20)\n",
    "\n",
    "mse_scores = np.sqrt(-scores)"
   ]
  },
  {
   "cell_type": "code",
   "execution_count": 18,
   "metadata": {},
   "outputs": [
    {
     "name": "stdout",
     "output_type": "stream",
     "text": [
      "[0.33209203 0.3255833  0.33730271 0.34105327 0.32052187 0.34772316\n",
      " 0.34432372 0.32320036 0.33240618 0.3186875  0.33481286 0.34616914\n",
      " 0.33325295 0.33468568 0.31621578 0.34373984 0.33511262 0.34266884\n",
      " 0.3300453  0.31955212]\n",
      "0.3329574607068001\n",
      "0.009500781835622862\n"
     ]
    }
   ],
   "source": [
    "print(mse_scores)\n",
    "print(mse_scores.mean())\n",
    "print(mse_scores.std())"
   ]
  },
  {
   "cell_type": "code",
   "execution_count": null,
   "metadata": {},
   "outputs": [],
   "source": []
  }
 ],
 "metadata": {
  "interpreter": {
   "hash": "b9d0357c8f8789fd1165848bced750b23fa6fc122a98054728f94b5e0abd9b6e"
  },
  "kernelspec": {
   "display_name": "Python 3.9.7 ('base')",
   "language": "python",
   "name": "python3"
  },
  "language_info": {
   "codemirror_mode": {
    "name": "ipython",
    "version": 3
   },
   "file_extension": ".py",
   "mimetype": "text/x-python",
   "name": "python",
   "nbconvert_exporter": "python",
   "pygments_lexer": "ipython3",
   "version": "3.9.7"
  },
  "orig_nbformat": 4
 },
 "nbformat": 4,
 "nbformat_minor": 2
}
