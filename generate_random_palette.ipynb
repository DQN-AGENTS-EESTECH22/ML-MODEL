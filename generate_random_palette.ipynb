{
 "cells": [
  {
   "cell_type": "code",
   "execution_count": 73,
   "metadata": {},
   "outputs": [],
   "source": [
    "import numpy as np\n",
    "import matplotlib.pyplot as plt"
   ]
  },
  {
   "cell_type": "code",
   "execution_count": 13,
   "metadata": {},
   "outputs": [
    {
     "name": "stdout",
     "output_type": "stream",
     "text": [
      "[160 179  14]\n"
     ]
    },
    {
     "data": {
      "text/plain": [
       "<matplotlib.image.AxesImage at 0x1a42df88280>"
      ]
     },
     "execution_count": 13,
     "metadata": {},
     "output_type": "execute_result"
    },
    {
     "data": {
      "image/png": "[encoded data removed]",
      "text/plain": [
       "<Figure size 432x288 with 1 Axes>"
      ]
     },
     "metadata": {
      "needs_background": "light"
     },
     "output_type": "display_data"
    }
   ],
   "source": [
    "Nx = Ny = 100\n",
    "color = np.ones((Nx, Ny, 3), dtype=int)\n",
    "# choose 3 color values randomly\n",
    "rgb_values = np.random.randint(0, 255+1, 3)\n",
    "print(rgb_values)\n",
    "color[:, :, :] = rgb_values\n",
    "# display color\n",
    "plt.imshow(color)"
   ]
  },
  {
   "cell_type": "markdown",
   "metadata": {},
   "source": [
    "Gerar e mostrar paletas de cores completamente aleatórias"
   ]
  },
  {
   "cell_type": "code",
   "execution_count": 74,
   "metadata": {},
   "outputs": [],
   "source": [
    "def random_palete(pal_size):\n",
    "    Nx = Ny = 100\n",
    "    palette = []\n",
    "    colors = []\n",
    "    for i in range(pal_size):\n",
    "        color = np.ones((Nx, Ny, 3), dtype=int)\n",
    "        # choose 3 color values randomly\n",
    "        rgb_values = np.random.randint(0, 255+1, 3)\n",
    "        palette.append(rgb_values)\n",
    "        color[:, :, :] = rgb_values\n",
    "        colors.append(color)\n",
    "    return colors, palette\n",
    "\n",
    "def display_palette(colors):\n",
    "    fig = plt.figure()\n",
    "    gs = plt.GridSpec(1, len(colors))\n",
    "    for i, color in enumerate(colors):\n",
    "        # display color\n",
    "        ax = fig.add_subplot(gs[0, i])\n",
    "        ax.imshow(color)\n",
    "        ax.set_xticks([])\n",
    "        ax.set_yticks([])\n",
    "        ax.spines[['top', 'right', 'bottom', 'left']].set_visible(False)\n",
    "\n",
    "    fig.tight_layout()\n",
    "    fig.subplots_adjust(wspace=0., hspace=0.)\n",
    "    return fig"
   ]
  },
  {
   "cell_type": "code",
   "execution_count": 75,
   "metadata": {},
   "outputs": [
    {
     "name": "stdout",
     "output_type": "stream",
     "text": [
      "[array([ 49, 178, 201]), array([246, 166,  47]), array([185, 107, 219]), array([ 59, 167, 101]), array([151, 209,   2])]\n"
     ]
    },
    {
     "data": {
      "image/png": "[encoded data removed]",
      "text/plain": [
       "<Figure size 432x288 with 5 Axes>"
      ]
     },
     "metadata": {},
     "output_type": "display_data"
    }
   ],
   "source": [
    "my_palette = random_palete(5)\n",
    "display_palette(my_palette[0])\n",
    "print(my_palette[1])"
   ]
  },
  {
   "cell_type": "code",
   "execution_count": null,
   "metadata": {},
   "outputs": [],
   "source": []
  }
 ],
 "metadata": {
  "interpreter": {
   "hash": "b9d0357c8f8789fd1165848bced750b23fa6fc122a98054728f94b5e0abd9b6e"
  },
  "kernelspec": {
   "display_name": "Python 3.9.7 ('base')",
   "language": "python",
   "name": "python3"
  },
  "language_info": {
   "codemirror_mode": {
    "name": "ipython",
    "version": 3
   },
   "file_extension": ".py",
   "mimetype": "text/x-python",
   "name": "python",
   "nbconvert_exporter": "python",
   "pygments_lexer": "ipython3",
   "version": "3.9.7"
  },
  "orig_nbformat": 4
 },
 "nbformat": 4,
 "nbformat_minor": 2
}
