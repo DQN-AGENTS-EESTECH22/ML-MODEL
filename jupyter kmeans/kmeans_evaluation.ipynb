{
 "cells": [
  {
   "cell_type": "code",
   "execution_count": 1,
   "metadata": {},
   "outputs": [],
   "source": [
    "from pathlib import Path\n",
    "\n",
    "import numpy as np\n",
    "import matplotlib.pyplot as plt\n",
    "%matplotlib inline\n",
    "import seaborn as sns\n",
    "sns.set()\n",
    "\n",
    "from PIL import Image\n",
    "\n",
    "from sklearn.cluster import KMeans\n",
    "from sklearn.metrics import pairwise_distances_argmin\n",
    "from sklearn.datasets import load_sample_image\n",
    "from sklearn.utils import shuffle\n",
    "from time import time\n",
    "\n",
    "from pathlib import Path\n",
    "from math import ceil\n",
    "from functools import partial\n",
    "from io import BytesIO\n",
    "\n",
    "import numpy as np\n",
    "import matplotlib.pyplot as plt\n",
    "\n",
    "from PIL import Image\n",
    "from skimage import color\n",
    "from sklearn.cluster import KMeans, AgglomerativeClustering\n",
    "\n",
    "from typing import Union, Callable\n",
    "\n",
    "import glob\n",
    "import os\n",
    "import os.path\n",
    "import joblib\n",
    "\n",
    "import pandas as pd\n",
    "import colorsys\n",
    "from IPython.display import display"
   ]
  },
  {
   "cell_type": "code",
   "execution_count": 2,
   "metadata": {},
   "outputs": [],
   "source": [
    "import img_rgb as classifier"
   ]
  },
  {
   "cell_type": "code",
   "execution_count": 3,
   "metadata": {},
   "outputs": [
    {
     "data": {
      "text/plain": [
       "{'0': array([ 5, 10, 11], dtype=int64),\n",
       " '1': array([219, 166,  80], dtype=int64),\n",
       " '2': array([67, 70, 65], dtype=int64),\n",
       " '3': array([136, 155,  88], dtype=int64),\n",
       " '4': array([28, 33, 32], dtype=int64)}"
      ]
     },
     "execution_count": 3,
     "metadata": {},
     "output_type": "execute_result"
    }
   ],
   "source": [
    "classifier.pallete(r\".\\poster_downloads\\1.6_245943.jpg\")"
   ]
  },
  {
   "cell_type": "code",
   "execution_count": 4,
   "metadata": {},
   "outputs": [],
   "source": [
    "def load_palette(mypath, batch):\n",
    "    onlyfiles = [f for f in os.listdir(mypath) if os.path.isfile(os.path.join(mypath, f))]\n",
    "    buffer = np.random.randint(0, int(len(onlyfiles) - batch))\n",
    "    palette_list = []\n",
    "    for i in range(buffer, buffer + batch):\n",
    "        palette = classifier.pallete(mypath + \"/\" + onlyfiles[i])\n",
    "        palette_list.append(palette)\n",
    "\n",
    "    return palette_list"
   ]
  },
  {
   "cell_type": "code",
   "execution_count": 5,
   "metadata": {},
   "outputs": [],
   "source": [
    "# scoring_regressor = joblib.load(r\"..\\regressor\\scoring_regressor.pkl\")\n",
    "scoring_regressor = joblib.load(r\"..\\regressor\\scoring_regressor_mturk.pkl\")"
   ]
  },
  {
   "cell_type": "code",
   "execution_count": 6,
   "metadata": {},
   "outputs": [],
   "source": [
    "def convert_rgb_to_hsv(rgb_palette):\n",
    "\n",
    "    hsv = colorsys.rgb_to_hsv(rgb_palette[0],\n",
    "                                rgb_palette[1],\n",
    "                                rgb_palette[2])\n",
    "\n",
    "    return np.asarray(hsv)"
   ]
  },
  {
   "cell_type": "code",
   "execution_count": 7,
   "metadata": {},
   "outputs": [],
   "source": [
    "def process_palette(palette):\n",
    "\n",
    "    df = pd.DataFrame()\n",
    "\n",
    "    # passar de dicionário para vetor\n",
    "    arr = np.zeros((5, 3))\n",
    "    for i, key in enumerate(palette.keys()):\n",
    "        arr[i, :] = palette[key]\n",
    " \n",
    "\n",
    "\n",
    "    for i in range(arr.shape[0]):\n",
    "        col_prefix = \"palette_\" + str(i)\n",
    "        rgb = [\"R\", \"G\", \"B\"]\n",
    "        for j in range(3):\n",
    "            colname = col_prefix + \"_\" + rgb[j]\n",
    "            temp = float(arr[i, j] / 255)\n",
    "            df[colname] = [temp]\n",
    "\n",
    "        \n",
    "    for i in range(arr.shape[0]):\n",
    "        col_prefix = \"palette_\" + str(i)\n",
    "        hsv = [\"H\", \"S\", \"V\"]\n",
    "        converted = convert_rgb_to_hsv(arr[i, :] / 255)\n",
    "        for j in range(3):\n",
    "            colnameHSV = col_prefix + \"_\" + hsv[j]\n",
    "            df[colnameHSV] = (converted[j])\n",
    "\n",
    "\n",
    "    for i in range(3):\n",
    "        rgb = [\"R\", \"G\", \"B\"]\n",
    "        colname = \"mean_color_\" + rgb[i]\n",
    "        df[colname] = np.mean(arr[:, i] / 255)\n",
    "        colname = \"std_color_\" + rgb[i]\n",
    "        df[colname] = np.std(arr[:, i] / 255)\n",
    "\n",
    "    return df\n"
   ]
  },
  {
   "cell_type": "code",
   "execution_count": 15,
   "metadata": {},
   "outputs": [],
   "source": [
    "def generate_scores(palettes, regressor):\n",
    "    scores = []\n",
    "    for palette in palettes:\n",
    "        processed_palette = process_palette(palette)\n",
    "        score = regressor.predict(processed_palette)\n",
    "        scores.append(score)\n",
    "    return scores"
   ]
  },
  {
   "cell_type": "code",
   "execution_count": 16,
   "metadata": {},
   "outputs": [],
   "source": [
    "def iterate_many_batches(num_batches, batch_size=20):\n",
    "    total_scores = np.zeros(int(num_batches*batch_size))\n",
    "    count = 0\n",
    "    for i in range(0, int(num_batches*batch_size), batch_size):\n",
    "        count += 1\n",
    "        some_palettes = load_palette(\".\\poster_downloads\", batch=batch_size)\n",
    "        total_scores[i:i+batch_size] = generate_scores(some_palettes, regressor=scoring_regressor)\n",
    "        print('Finished batch ', count)\n",
    "    return total_scores"
   ]
  },
  {
   "cell_type": "code",
   "execution_count": 17,
   "metadata": {},
   "outputs": [],
   "source": [
    "# kmeans_scores = generate_scores(some_palettes, regressor=scoring_regressor)"
   ]
  },
  {
   "cell_type": "code",
   "execution_count": 18,
   "metadata": {},
   "outputs": [
    {
     "name": "stderr",
     "output_type": "stream",
     "text": [
      "C:\\Users\\fcoel\\AppData\\Local\\Temp/ipykernel_15776/4231643855.py:7: DeprecationWarning: setting an array element with a sequence. This was supported in some cases where the elements are arrays with a single element. For example `np.array([1, np.array([2])], dtype=int)`. In the future this will raise the same ValueError as `np.array([1, [2]], dtype=int)`.\n",
      "  total_scores[i:i+batch_size] = generate_scores(some_palettes, regressor=scoring_regressor)\n"
     ]
    },
    {
     "name": "stdout",
     "output_type": "stream",
     "text": [
      "Finished batch  1\n"
     ]
    },
    {
     "name": "stderr",
     "output_type": "stream",
     "text": [
      "C:\\Users\\fcoel\\AppData\\Local\\Temp/ipykernel_15776/4231643855.py:7: DeprecationWarning: setting an array element with a sequence. This was supported in some cases where the elements are arrays with a single element. For example `np.array([1, np.array([2])], dtype=int)`. In the future this will raise the same ValueError as `np.array([1, [2]], dtype=int)`.\n",
      "  total_scores[i:i+batch_size] = generate_scores(some_palettes, regressor=scoring_regressor)\n"
     ]
    },
    {
     "name": "stdout",
     "output_type": "stream",
     "text": [
      "Finished batch  2\n"
     ]
    },
    {
     "name": "stderr",
     "output_type": "stream",
     "text": [
      "C:\\Users\\fcoel\\AppData\\Local\\Temp/ipykernel_15776/4231643855.py:7: DeprecationWarning: setting an array element with a sequence. This was supported in some cases where the elements are arrays with a single element. For example `np.array([1, np.array([2])], dtype=int)`. In the future this will raise the same ValueError as `np.array([1, [2]], dtype=int)`.\n",
      "  total_scores[i:i+batch_size] = generate_scores(some_palettes, regressor=scoring_regressor)\n"
     ]
    },
    {
     "name": "stdout",
     "output_type": "stream",
     "text": [
      "Finished batch  3\n"
     ]
    },
    {
     "name": "stderr",
     "output_type": "stream",
     "text": [
      "C:\\Users\\fcoel\\AppData\\Local\\Temp/ipykernel_15776/4231643855.py:7: DeprecationWarning: setting an array element with a sequence. This was supported in some cases where the elements are arrays with a single element. For example `np.array([1, np.array([2])], dtype=int)`. In the future this will raise the same ValueError as `np.array([1, [2]], dtype=int)`.\n",
      "  total_scores[i:i+batch_size] = generate_scores(some_palettes, regressor=scoring_regressor)\n"
     ]
    },
    {
     "name": "stdout",
     "output_type": "stream",
     "text": [
      "Finished batch  4\n"
     ]
    },
    {
     "name": "stderr",
     "output_type": "stream",
     "text": [
      "C:\\Users\\fcoel\\AppData\\Local\\Temp/ipykernel_15776/4231643855.py:7: DeprecationWarning: setting an array element with a sequence. This was supported in some cases where the elements are arrays with a single element. For example `np.array([1, np.array([2])], dtype=int)`. In the future this will raise the same ValueError as `np.array([1, [2]], dtype=int)`.\n",
      "  total_scores[i:i+batch_size] = generate_scores(some_palettes, regressor=scoring_regressor)\n"
     ]
    },
    {
     "name": "stdout",
     "output_type": "stream",
     "text": [
      "Finished batch  5\n"
     ]
    },
    {
     "name": "stderr",
     "output_type": "stream",
     "text": [
      "C:\\Users\\fcoel\\AppData\\Local\\Temp/ipykernel_15776/4231643855.py:7: DeprecationWarning: setting an array element with a sequence. This was supported in some cases where the elements are arrays with a single element. For example `np.array([1, np.array([2])], dtype=int)`. In the future this will raise the same ValueError as `np.array([1, [2]], dtype=int)`.\n",
      "  total_scores[i:i+batch_size] = generate_scores(some_palettes, regressor=scoring_regressor)\n"
     ]
    },
    {
     "name": "stdout",
     "output_type": "stream",
     "text": [
      "Finished batch  6\n"
     ]
    },
    {
     "name": "stderr",
     "output_type": "stream",
     "text": [
      "C:\\Users\\fcoel\\AppData\\Local\\Temp/ipykernel_15776/4231643855.py:7: DeprecationWarning: setting an array element with a sequence. This was supported in some cases where the elements are arrays with a single element. For example `np.array([1, np.array([2])], dtype=int)`. In the future this will raise the same ValueError as `np.array([1, [2]], dtype=int)`.\n",
      "  total_scores[i:i+batch_size] = generate_scores(some_palettes, regressor=scoring_regressor)\n"
     ]
    },
    {
     "name": "stdout",
     "output_type": "stream",
     "text": [
      "Finished batch  7\n"
     ]
    },
    {
     "name": "stderr",
     "output_type": "stream",
     "text": [
      "C:\\Users\\fcoel\\AppData\\Local\\Temp/ipykernel_15776/4231643855.py:7: DeprecationWarning: setting an array element with a sequence. This was supported in some cases where the elements are arrays with a single element. For example `np.array([1, np.array([2])], dtype=int)`. In the future this will raise the same ValueError as `np.array([1, [2]], dtype=int)`.\n",
      "  total_scores[i:i+batch_size] = generate_scores(some_palettes, regressor=scoring_regressor)\n"
     ]
    },
    {
     "name": "stdout",
     "output_type": "stream",
     "text": [
      "Finished batch  8\n"
     ]
    },
    {
     "name": "stderr",
     "output_type": "stream",
     "text": [
      "C:\\Users\\fcoel\\AppData\\Local\\Temp/ipykernel_15776/4231643855.py:7: DeprecationWarning: setting an array element with a sequence. This was supported in some cases where the elements are arrays with a single element. For example `np.array([1, np.array([2])], dtype=int)`. In the future this will raise the same ValueError as `np.array([1, [2]], dtype=int)`.\n",
      "  total_scores[i:i+batch_size] = generate_scores(some_palettes, regressor=scoring_regressor)\n"
     ]
    },
    {
     "name": "stdout",
     "output_type": "stream",
     "text": [
      "Finished batch  9\n",
      "Finished batch  10\n"
     ]
    },
    {
     "name": "stderr",
     "output_type": "stream",
     "text": [
      "C:\\Users\\fcoel\\AppData\\Local\\Temp/ipykernel_15776/4231643855.py:7: DeprecationWarning: setting an array element with a sequence. This was supported in some cases where the elements are arrays with a single element. For example `np.array([1, np.array([2])], dtype=int)`. In the future this will raise the same ValueError as `np.array([1, [2]], dtype=int)`.\n",
      "  total_scores[i:i+batch_size] = generate_scores(some_palettes, regressor=scoring_regressor)\n"
     ]
    }
   ],
   "source": [
    "kmeans_scores = iterate_many_batches(num_batches=10)"
   ]
  },
  {
   "cell_type": "code",
   "execution_count": 36,
   "metadata": {},
   "outputs": [
    {
     "name": "stdout",
     "output_type": "stream",
     "text": [
      "Mean:  5.325866309027765\n",
      "Standard deviation:  1.9254411827321867\n",
      "Median:  5.5676423674152264\n"
     ]
    },
    {
     "data": {
      "image/png": "[encoded data removed]",
      "text/plain": [
       "<Figure size 720x432 with 1 Axes>"
      ]
     },
     "metadata": {},
     "output_type": "display_data"
    }
   ],
   "source": [
    "fig = plt.figure(figsize=(10, 6))\n",
    "ax = fig.add_subplot()\n",
    "\n",
    "# _ = ax.hist(kmeans_scores, bins=15, density=True)\n",
    "\n",
    "# fit Gaussian\n",
    "# xs = np.linspace(np.min(kmeans_scores), np.max(kmeans_scores), 100)\n",
    "# def gaussian(xs, data):\n",
    "#     mu, sigma = np.mean(data), np.std(data)\n",
    "#     prob = np.exp(-0.5*((xs - mu)/sigma)**2)\n",
    "#     prob /= np.sqrt(2*np.pi*sigma**2)\n",
    "#     return prob, mu, sigma\n",
    "\n",
    "# gaussian_fit = gaussian(xs, kmeans_scores)\n",
    "# ax.plot(xs, gaussian_fit[0], ls='-', lw=3.0)\n",
    "# print('Mean: ', gaussian_fit[1])\n",
    "# print('Standard deviation: ', gaussian_fit[2])\n",
    "\n",
    "# mapear intervalo entre 0, 10\n",
    "smax, smin = np.max(kmeans_scores), np.min(kmeans_scores)\n",
    "rescaled_kmeans_scores = 10*kmeans_scores/np.abs(smax - smin) - 10*smin/np.abs(smax - smin)\n",
    "\n",
    "_ = ax.hist(rescaled_kmeans_scores, bins=20, density=True)\n",
    "\n",
    "print(\"Mean: \", np.mean(rescaled_kmeans_scores))\n",
    "print(\"Standard deviation: \", np.std(rescaled_kmeans_scores))\n",
    "print(\"Median: \", np.median(rescaled_kmeans_scores))"
   ]
  },
  {
   "cell_type": "code",
   "execution_count": null,
   "metadata": {},
   "outputs": [],
   "source": []
  }
 ],
 "metadata": {
  "interpreter": {
   "hash": "b9d0357c8f8789fd1165848bced750b23fa6fc122a98054728f94b5e0abd9b6e"
  },
  "kernelspec": {
   "display_name": "Python 3.9.7 ('base')",
   "language": "python",
   "name": "python3"
  },
  "language_info": {
   "codemirror_mode": {
    "name": "ipython",
    "version": 3
   },
   "file_extension": ".py",
   "mimetype": "text/x-python",
   "name": "python",
   "nbconvert_exporter": "python",
   "pygments_lexer": "ipython3",
   "version": "3.9.7"
  },
  "orig_nbformat": 4
 },
 "nbformat": 4,
 "nbformat_minor": 2
}
