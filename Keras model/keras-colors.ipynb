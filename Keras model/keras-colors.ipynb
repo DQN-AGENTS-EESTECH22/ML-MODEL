{
 "cells": [
  {
   "cell_type": "code",
   "execution_count": 2,
   "source": [
    "import tensorflow as tf\n",
    "from tensorflow.python import keras\n",
    "from tensorflow.python.keras import preprocessing\n",
    "from tensorflow.python.keras.preprocessing.text import Tokenizer\n",
    "from tensorflow.python.keras.models import Sequential\n",
    "from tensorflow.python.keras.layers import Dense, Dropout, LSTM, Reshape\n",
    "\n",
    "import numpy as np\n",
    "import pandas\n",
    "\n",
    "np.random.seed(10)\n",
    "print (tf.__version__)"
   ],
   "outputs": [
    {
     "output_type": "stream",
     "name": "stdout",
     "text": [
      "2.7.0\n"
     ]
    }
   ],
   "metadata": {}
  },
  {
   "cell_type": "code",
   "execution_count": 3,
   "source": [
    "# Reading the dataset\n",
    "data = pandas.read_csv('colors.csv')\n",
    "data.head()"
   ],
   "outputs": [
    {
     "output_type": "execute_result",
     "data": {
      "text/html": [
       "<div>\n",
       "<style scoped>\n",
       "    .dataframe tbody tr th:only-of-type {\n",
       "        vertical-align: middle;\n",
       "    }\n",
       "\n",
       "    .dataframe tbody tr th {\n",
       "        vertical-align: top;\n",
       "    }\n",
       "\n",
       "    .dataframe thead th {\n",
       "        text-align: right;\n",
       "    }\n",
       "</style>\n",
       "<table border=\"1\" class=\"dataframe\">\n",
       "  <thead>\n",
       "    <tr style=\"text-align: right;\">\n",
       "      <th></th>\n",
       "      <th>name</th>\n",
       "      <th>red</th>\n",
       "      <th>green</th>\n",
       "      <th>blue</th>\n",
       "    </tr>\n",
       "  </thead>\n",
       "  <tbody>\n",
       "    <tr>\n",
       "      <th>0</th>\n",
       "      <td>parakeet</td>\n",
       "      <td>174</td>\n",
       "      <td>182</td>\n",
       "      <td>87</td>\n",
       "    </tr>\n",
       "    <tr>\n",
       "      <th>1</th>\n",
       "      <td>saddle brown</td>\n",
       "      <td>88</td>\n",
       "      <td>52</td>\n",
       "      <td>1</td>\n",
       "    </tr>\n",
       "    <tr>\n",
       "      <th>2</th>\n",
       "      <td>cucumber crush</td>\n",
       "      <td>222</td>\n",
       "      <td>237</td>\n",
       "      <td>215</td>\n",
       "    </tr>\n",
       "    <tr>\n",
       "      <th>3</th>\n",
       "      <td>pool blue</td>\n",
       "      <td>134</td>\n",
       "      <td>194</td>\n",
       "      <td>201</td>\n",
       "    </tr>\n",
       "    <tr>\n",
       "      <th>4</th>\n",
       "      <td>distance</td>\n",
       "      <td>98</td>\n",
       "      <td>110</td>\n",
       "      <td>130</td>\n",
       "    </tr>\n",
       "  </tbody>\n",
       "</table>\n",
       "</div>"
      ],
      "text/plain": [
       "             name  red  green  blue\n",
       "0        parakeet  174    182    87\n",
       "1    saddle brown   88     52     1\n",
       "2  cucumber crush  222    237   215\n",
       "3       pool blue  134    194   201\n",
       "4        distance   98    110   130"
      ]
     },
     "metadata": {},
     "execution_count": 3
    }
   ],
   "metadata": {
    "scrolled": true
   }
  },
  {
   "cell_type": "code",
   "execution_count": 5,
   "source": [
    "names = data[\"name\"]"
   ],
   "outputs": [],
   "metadata": {}
  },
  {
   "cell_type": "markdown",
   "source": [
    "## Visualize the name string length distribution"
   ],
   "metadata": {}
  },
  {
   "cell_type": "code",
   "execution_count": 8,
   "source": [
    "\n",
    "h = sorted(names.str.len().to_numpy())\n",
    "import numpy as np\n",
    "import scipy.stats as stats\n",
    "import pylab as plt\n",
    "\n",
    "fit = stats.norm.pdf(h, np.mean(h), np.std(h))  #this is a fitting indeed\n",
    "plt.plot(h,fit,'-o')\n",
    "plt.hist(h,density=True)      #use this to draw histogram of your data\n",
    "plt.xlabel('Chars')\n",
    "plt.ylabel('Probability density')\n",
    "plt.show()"
   ],
   "outputs": [
    {
     "output_type": "display_data",
     "data": {
      "image/png": "[encoded data removed]",
      "text/plain": [
       "<Figure size 432x288 with 1 Axes>"
      ]
     },
     "metadata": {
      "needs_background": "light"
     }
    }
   ],
   "metadata": {}
  },
  {
   "cell_type": "code",
   "execution_count": 9,
   "source": [
    "np.array(h).max()"
   ],
   "outputs": [
    {
     "output_type": "execute_result",
     "data": {
      "text/plain": [
       "30"
      ]
     },
     "metadata": {},
     "execution_count": 9
    }
   ],
   "metadata": {}
  },
  {
   "cell_type": "markdown",
   "source": [
    "## Tokenize, char level"
   ],
   "metadata": {}
  },
  {
   "cell_type": "code",
   "execution_count": 10,
   "source": [
    "maxlen = 25\n",
    "t = Tokenizer(char_level=True)\n",
    "t.fit_on_texts(names)\n",
    "tokenized = t.texts_to_sequences(names)\n",
    "padded_names = preprocessing.sequence.pad_sequences(tokenized, maxlen=maxlen)"
   ],
   "outputs": [],
   "metadata": {}
  },
  {
   "cell_type": "code",
   "execution_count": 56,
   "source": [
    "# Saving trainned tokens\n",
    "\n",
    "import pickle\n",
    "\n",
    "\n",
    "# saving\n",
    "with open('tokenizer.pickle', 'wb') as handle:\n",
    "    pickle.dump(t, handle, protocol=pickle.HIGHEST_PROTOCOL)"
   ],
   "outputs": [],
   "metadata": {}
  },
  {
   "cell_type": "code",
   "execution_count": null,
   "source": [],
   "outputs": [],
   "metadata": {}
  },
  {
   "cell_type": "markdown",
   "source": [
    "## One-hot encoding"
   ],
   "metadata": {}
  },
  {
   "cell_type": "code",
   "execution_count": 11,
   "source": [
    "from keras.utils import np_utils\n",
    "one_hot_names = np_utils.to_categorical(padded_names)\n",
    "num_classes = one_hot_names.shape[-1]\n",
    "num_classes"
   ],
   "outputs": [
    {
     "output_type": "execute_result",
     "data": {
      "text/plain": [
       "28"
      ]
     },
     "metadata": {},
     "execution_count": 11
    }
   ],
   "metadata": {}
  },
  {
   "cell_type": "code",
   "execution_count": 12,
   "source": [
    "one_hot_names.shape"
   ],
   "outputs": [
    {
     "output_type": "execute_result",
     "data": {
      "text/plain": [
       "(14157, 25, 28)"
      ]
     },
     "metadata": {},
     "execution_count": 12
    }
   ],
   "metadata": {}
  },
  {
   "cell_type": "code",
   "execution_count": 14,
   "source": [
    "# The RGB values are between 0 - 255\n",
    "# scale them to be between 0 - 1\n",
    "def norm(value):\n",
    "    return value / 255.0\n",
    "\n",
    "normalized_values = np.column_stack([norm(data[\"red\"]), norm(data[\"green\"]), norm(data[\"blue\"])])\n"
   ],
   "outputs": [],
   "metadata": {}
  },
  {
   "cell_type": "code",
   "execution_count": 17,
   "source": [
    "# Create model\n",
    "\n",
    "model = Sequential()\n",
    "model.add(LSTM(256, return_sequences=True, input_shape=(maxlen, num_classes)))\n",
    "model.add(LSTM(128))\n",
    "model.add(Dense(128, activation='relu'))\n",
    "model.add(Dense(3, activation='sigmoid'))\n",
    "model.compile(optimizer='adam', loss='mse', metrics=['acc'])\n",
    "model.summary()"
   ],
   "outputs": [
    {
     "output_type": "stream",
     "name": "stdout",
     "text": [
      "Model: \"sequential_1\"\n",
      "_________________________________________________________________\n",
      "Layer (type)                 Output Shape              Param #   \n",
      "=================================================================\n",
      "lstm_2 (LSTM)                (None, 25, 256)           291840    \n",
      "_________________________________________________________________\n",
      "lstm_3 (LSTM)                (None, 128)               197120    \n",
      "_________________________________________________________________\n",
      "dense_2 (Dense)              (None, 128)               16512     \n",
      "_________________________________________________________________\n",
      "dense_3 (Dense)              (None, 3)                 387       \n",
      "=================================================================\n",
      "Total params: 505,859\n",
      "Trainable params: 505,859\n",
      "Non-trainable params: 0\n",
      "_________________________________________________________________\n"
     ]
    }
   ],
   "metadata": {}
  },
  {
   "cell_type": "code",
   "execution_count": 19,
   "source": [
    "history = model.fit(one_hot_names, normalized_values,\n",
    "                    epochs=40,\n",
    "                    batch_size=32,\n",
    "                    validation_split=0.1)"
   ],
   "outputs": [
    {
     "output_type": "stream",
     "name": "stderr",
     "text": [
      "2022-04-23 07:14:26.869995: W tensorflow/core/platform/profile_utils/cpu_utils.cc:128] Failed to get CPU frequency: 0 Hz\n"
     ]
    },
    {
     "output_type": "stream",
     "name": "stdout",
     "text": [
      "Epoch 1/40\n",
      "399/399 [==============================] - 41s 100ms/step - loss: 0.0601 - acc: 0.6226 - val_loss: 0.0598 - val_acc: 0.6518\n",
      "Epoch 2/40\n",
      "399/399 [==============================] - 42s 105ms/step - loss: 0.0551 - acc: 0.6667 - val_loss: 0.0558 - val_acc: 0.6674\n",
      "Epoch 3/40\n",
      "399/399 [==============================] - 44s 109ms/step - loss: 0.0524 - acc: 0.6646 - val_loss: 0.0536 - val_acc: 0.6617\n",
      "Epoch 4/40\n",
      "399/399 [==============================] - 45s 112ms/step - loss: 0.0499 - acc: 0.6639 - val_loss: 0.0518 - val_acc: 0.6702\n",
      "Epoch 5/40\n",
      "399/399 [==============================] - 46s 115ms/step - loss: 0.0479 - acc: 0.6646 - val_loss: 0.0523 - val_acc: 0.6850\n",
      "Epoch 6/40\n",
      "399/399 [==============================] - 46s 116ms/step - loss: 0.0457 - acc: 0.6754 - val_loss: 0.0492 - val_acc: 0.6688\n",
      "Epoch 7/40\n",
      "399/399 [==============================] - 48s 120ms/step - loss: 0.0436 - acc: 0.6744 - val_loss: 0.0473 - val_acc: 0.6928\n",
      "Epoch 8/40\n",
      "399/399 [==============================] - 49s 122ms/step - loss: 0.0417 - acc: 0.6780 - val_loss: 0.0466 - val_acc: 0.6780\n",
      "Epoch 9/40\n",
      "399/399 [==============================] - 47s 117ms/step - loss: 0.0394 - acc: 0.6860 - val_loss: 0.0452 - val_acc: 0.6914\n",
      "Epoch 10/40\n",
      "399/399 [==============================] - 48s 119ms/step - loss: 0.0377 - acc: 0.6911 - val_loss: 0.0455 - val_acc: 0.6695\n",
      "Epoch 11/40\n",
      "399/399 [==============================] - 49s 123ms/step - loss: 0.0352 - acc: 0.6925 - val_loss: 0.0453 - val_acc: 0.6787\n",
      "Epoch 12/40\n",
      "399/399 [==============================] - 50s 124ms/step - loss: 0.0330 - acc: 0.7024 - val_loss: 0.0444 - val_acc: 0.6857\n",
      "Epoch 13/40\n",
      "399/399 [==============================] - 50s 125ms/step - loss: 0.0303 - acc: 0.7071 - val_loss: 0.0446 - val_acc: 0.6871\n",
      "Epoch 14/40\n",
      "399/399 [==============================] - 50s 126ms/step - loss: 0.0277 - acc: 0.7069 - val_loss: 0.0469 - val_acc: 0.6744\n",
      "Epoch 15/40\n",
      "399/399 [==============================] - 52s 130ms/step - loss: 0.0252 - acc: 0.7131 - val_loss: 0.0455 - val_acc: 0.6758\n",
      "Epoch 16/40\n",
      "399/399 [==============================] - 51s 128ms/step - loss: 0.0220 - acc: 0.7205 - val_loss: 0.0452 - val_acc: 0.6766\n",
      "Epoch 17/40\n",
      "399/399 [==============================] - 45s 112ms/step - loss: 0.0196 - acc: 0.7265 - val_loss: 0.0476 - val_acc: 0.6780\n",
      "Epoch 18/40\n",
      "399/399 [==============================] - 45s 113ms/step - loss: 0.0177 - acc: 0.7320 - val_loss: 0.0480 - val_acc: 0.6681\n",
      "Epoch 19/40\n",
      "399/399 [==============================] - 46s 115ms/step - loss: 0.0157 - acc: 0.7351 - val_loss: 0.0481 - val_acc: 0.6836\n",
      "Epoch 20/40\n",
      "399/399 [==============================] - 46s 116ms/step - loss: 0.0140 - acc: 0.7456 - val_loss: 0.0503 - val_acc: 0.6702\n",
      "Epoch 21/40\n",
      "399/399 [==============================] - 43s 107ms/step - loss: 0.0129 - acc: 0.7462 - val_loss: 0.0486 - val_acc: 0.6702\n",
      "Epoch 22/40\n",
      "399/399 [==============================] - 43s 109ms/step - loss: 0.0118 - acc: 0.7550 - val_loss: 0.0479 - val_acc: 0.6815\n",
      "Epoch 23/40\n",
      "399/399 [==============================] - 44s 110ms/step - loss: 0.0110 - acc: 0.7671 - val_loss: 0.0501 - val_acc: 0.6702\n",
      "Epoch 24/40\n",
      "399/399 [==============================] - 45s 113ms/step - loss: 0.0102 - acc: 0.7664 - val_loss: 0.0493 - val_acc: 0.6681\n",
      "Epoch 25/40\n",
      "399/399 [==============================] - 45s 114ms/step - loss: 0.0099 - acc: 0.7728 - val_loss: 0.0496 - val_acc: 0.6801\n",
      "Epoch 26/40\n",
      "399/399 [==============================] - 45s 113ms/step - loss: 0.0091 - acc: 0.7790 - val_loss: 0.0494 - val_acc: 0.6942\n",
      "Epoch 27/40\n",
      "399/399 [==============================] - 44s 110ms/step - loss: 0.0087 - acc: 0.7837 - val_loss: 0.0495 - val_acc: 0.6836\n",
      "Epoch 28/40\n",
      "399/399 [==============================] - 43s 107ms/step - loss: 0.0085 - acc: 0.7860 - val_loss: 0.0502 - val_acc: 0.6907\n",
      "Epoch 29/40\n",
      "399/399 [==============================] - 42s 106ms/step - loss: 0.0080 - acc: 0.7899 - val_loss: 0.0486 - val_acc: 0.6907\n",
      "Epoch 30/40\n",
      "399/399 [==============================] - 42s 105ms/step - loss: 0.0077 - acc: 0.7950 - val_loss: 0.0506 - val_acc: 0.6843\n",
      "Epoch 31/40\n",
      "399/399 [==============================] - 42s 106ms/step - loss: 0.0075 - acc: 0.7988 - val_loss: 0.0496 - val_acc: 0.6864\n",
      "Epoch 32/40\n",
      "399/399 [==============================] - 41s 103ms/step - loss: 0.0071 - acc: 0.8075 - val_loss: 0.0488 - val_acc: 0.6907\n",
      "Epoch 33/40\n",
      "399/399 [==============================] - 44s 111ms/step - loss: 0.0069 - acc: 0.8059 - val_loss: 0.0491 - val_acc: 0.6921\n",
      "Epoch 34/40\n",
      "399/399 [==============================] - 44s 111ms/step - loss: 0.0068 - acc: 0.8146 - val_loss: 0.0493 - val_acc: 0.6766\n",
      "Epoch 35/40\n",
      "399/399 [==============================] - 44s 110ms/step - loss: 0.0067 - acc: 0.8095 - val_loss: 0.0496 - val_acc: 0.6843\n",
      "Epoch 36/40\n",
      "399/399 [==============================] - 45s 113ms/step - loss: 0.0065 - acc: 0.8152 - val_loss: 0.0492 - val_acc: 0.6928\n",
      "Epoch 37/40\n",
      "399/399 [==============================] - 43s 109ms/step - loss: 0.0064 - acc: 0.8195 - val_loss: 0.0491 - val_acc: 0.6843\n",
      "Epoch 38/40\n",
      "399/399 [==============================] - 42s 106ms/step - loss: 0.0062 - acc: 0.8273 - val_loss: 0.0484 - val_acc: 0.6907\n",
      "Epoch 39/40\n",
      "399/399 [==============================] - 44s 109ms/step - loss: 0.0061 - acc: 0.8225 - val_loss: 0.0487 - val_acc: 0.6843\n",
      "Epoch 40/40\n",
      "399/399 [==============================] - 43s 109ms/step - loss: 0.0059 - acc: 0.8314 - val_loss: 0.0495 - val_acc: 0.6808\n"
     ]
    }
   ],
   "metadata": {
    "scrolled": true
   }
  },
  {
   "cell_type": "code",
   "execution_count": 22,
   "source": [
    "acc = history.history['acc']\n",
    "val_acc = history.history['val_acc']\n",
    "loss = history.history['loss']\n",
    "val_loss = history.history['val_loss']\n",
    "\n",
    "epochs = range(len(acc))\n",
    "\n",
    "plt.plot(epochs, acc, 'bo', label='Training acc')\n",
    "plt.plot(epochs, val_acc, 'b', label='Validation acc')\n",
    "plt.title('Training and validation accuracy')\n",
    "plt.legend()\n",
    "\n",
    "plt.figure()\n",
    "\n",
    "plt.plot(epochs, loss, 'bo', label='Training loss')\n",
    "plt.plot(epochs, val_loss, 'b', label='Validation loss')\n",
    "plt.title('Training and validation loss')\n",
    "plt.legend()\n",
    "\n",
    "plt.show()\n"
   ],
   "outputs": [
    {
     "output_type": "display_data",
     "data": {
      "image/png": "[encoded data removed]",
      "text/plain": [
       "<Figure size 432x288 with 1 Axes>"
      ]
     },
     "metadata": {
      "needs_background": "light"
     }
    },
    {
     "output_type": "display_data",
     "data": {
      "image/png": "[encoded data removed]",
      "text/plain": [
       "<Figure size 432x288 with 1 Axes>"
      ]
     },
     "metadata": {
      "needs_background": "light"
     }
    }
   ],
   "metadata": {}
  },
  {
   "cell_type": "code",
   "execution_count": 23,
   "source": [
    "# Plot a color image.\n",
    "def plot_rgb(rgb):\n",
    "    data = [[rgb]]\n",
    "    plt.figure(figsize=(2,2))\n",
    "    plt.imshow(data, interpolation='nearest')\n",
    "    plt.show()"
   ],
   "outputs": [],
   "metadata": {}
  },
  {
   "cell_type": "code",
   "execution_count": 24,
   "source": [
    "def scale(n):\n",
    "    return int(n * 255) "
   ],
   "outputs": [],
   "metadata": {}
  },
  {
   "cell_type": "code",
   "execution_count": 47,
   "source": [
    "def predict(name):\n",
    "    name = name.lower()\n",
    "    tokenized = t.texts_to_sequences([name])\n",
    "    padded = preprocessing.sequence.pad_sequences(tokenized, maxlen=maxlen)\n",
    "    one_hot = np_utils.to_categorical(padded, num_classes=num_classes)\n",
    "    pred = model.predict(np.array(one_hot))[0]\n",
    "    r, g, b = scale(pred[0]), scale(pred[1]), scale(pred[2])\n",
    "    print(name + ',', 'R,G,B:', r,g,b)\n",
    "    plot_rgb(pred)\n",
    "    return (r,g,b)"
   ],
   "outputs": [],
   "metadata": {}
  },
  {
   "cell_type": "code",
   "execution_count": 26,
   "source": [
    "predict(\"light blue\")\n",
    "predict(\"blue\")\n",
    "predict(\"dark blue\")"
   ],
   "outputs": [
    {
     "output_type": "stream",
     "name": "stdout",
     "text": [
      "light blue, R,G,B: 157 212 236\n"
     ]
    },
    {
     "output_type": "display_data",
     "data": {
      "image/png": "[encoded data removed]",
      "text/plain": [
       "<Figure size 144x144 with 1 Axes>"
      ]
     },
     "metadata": {
      "needs_background": "light"
     }
    },
    {
     "output_type": "stream",
     "name": "stdout",
     "text": [
      "blue, R,G,B: 21 45 190\n"
     ]
    },
    {
     "output_type": "display_data",
     "data": {
      "image/png": "[encoded data removed]",
      "text/plain": [
       "<Figure size 144x144 with 1 Axes>"
      ]
     },
     "metadata": {
      "needs_background": "light"
     }
    },
    {
     "output_type": "stream",
     "name": "stdout",
     "text": [
      "dark blue, R,G,B: 8 18 100\n"
     ]
    },
    {
     "output_type": "display_data",
     "data": {
      "image/png": "[encoded data removed]",
      "text/plain": [
       "<Figure size 144x144 with 1 Axes>"
      ]
     },
     "metadata": {
      "needs_background": "light"
     }
    }
   ],
   "metadata": {}
  },
  {
   "cell_type": "code",
   "execution_count": 27,
   "source": [
    "predict(\"black\")\n",
    "predict(\"white\")"
   ],
   "outputs": [
    {
     "output_type": "stream",
     "name": "stdout",
     "text": [
      "black, R,G,B: 20 17 26\n"
     ]
    },
    {
     "output_type": "display_data",
     "data": {
      "image/png": "[encoded data removed]",
      "text/plain": [
       "<Figure size 144x144 with 1 Axes>"
      ]
     },
     "metadata": {
      "needs_background": "light"
     }
    },
    {
     "output_type": "stream",
     "name": "stdout",
     "text": [
      "white, R,G,B: 242 238 227\n"
     ]
    },
    {
     "output_type": "display_data",
     "data": {
      "image/png": "[encoded data removed]",
      "text/plain": [
       "<Figure size 144x144 with 1 Axes>"
      ]
     },
     "metadata": {
      "needs_background": "light"
     }
    }
   ],
   "metadata": {}
  },
  {
   "cell_type": "code",
   "execution_count": 31,
   "source": [
    "predict(\"keras red\")"
   ],
   "outputs": [
    {
     "output_type": "stream",
     "name": "stdout",
     "text": [
      "keras red, R,G,B: 214 22 79\n"
     ]
    },
    {
     "output_type": "display_data",
     "data": {
      "image/png": "[encoded data removed]",
      "text/plain": [
       "<Figure size 144x144 with 1 Axes>"
      ]
     },
     "metadata": {
      "needs_background": "light"
     }
    }
   ],
   "metadata": {}
  },
  {
   "cell_type": "code",
   "execution_count": 49,
   "source": [
    "## Convert rgb to HEX\n",
    "'#%02x%02x%02x' % (r, g, b)\n"
   ],
   "outputs": [
    {
     "output_type": "execute_result",
     "data": {
      "text/plain": [
       "'#168d99'"
      ]
     },
     "metadata": {},
     "execution_count": 49
    }
   ],
   "metadata": {}
  },
  {
   "cell_type": "code",
   "execution_count": 53,
   "source": [
    "# Save the entire model as a SavedModel.\n",
    "\n",
    "model.save('tr_model')"
   ],
   "outputs": [
    {
     "output_type": "stream",
     "name": "stdout",
     "text": [
      "INFO:tensorflow:Assets written to: tr_model/assets\n"
     ]
    }
   ],
   "metadata": {}
  },
  {
   "cell_type": "code",
   "execution_count": null,
   "source": [],
   "outputs": [],
   "metadata": {}
  }
 ],
 "metadata": {
  "kernelspec": {
   "display_name": "Python 3 (ipykernel)",
   "language": "python",
   "name": "python3"
  },
  "language_info": {
   "codemirror_mode": {
    "name": "ipython",
    "version": 3
   },
   "file_extension": ".py",
   "mimetype": "text/x-python",
   "name": "python",
   "nbconvert_exporter": "python",
   "pygments_lexer": "ipython3",
   "version": "3.9.10"
  }
 },
 "nbformat": 4,
 "nbformat_minor": 2
}